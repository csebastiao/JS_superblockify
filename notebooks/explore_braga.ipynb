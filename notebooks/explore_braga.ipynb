{
 "cells": [
  {
   "cell_type": "code",
   "execution_count": 60,
   "metadata": {},
   "outputs": [],
   "source": [
    "import osmnx as ox"
   ]
  },
  {
   "cell_type": "markdown",
   "metadata": {},
   "source": [
    "`Braga_raw` is only extracting the OSM graph within the limit specified by the polygon of the city"
   ]
  },
  {
   "cell_type": "code",
   "execution_count": 61,
   "metadata": {},
   "outputs": [
    {
     "name": "stdout",
     "output_type": "stream",
     "text": [
      "5470 12871\n"
     ]
    }
   ],
   "source": [
    "G = ox.load_graphml(\"../data/processed/braga_private/Braga_raw.graphml\")\n",
    "print(len(G), len(G.edges))"
   ]
  },
  {
   "cell_type": "markdown",
   "metadata": {},
   "source": [
    "`Braga_wode` is `Braga_raw`, removing dead ends"
   ]
  },
  {
   "cell_type": "code",
   "execution_count": 62,
   "metadata": {},
   "outputs": [
    {
     "name": "stdout",
     "output_type": "stream",
     "text": [
      "3574 9265\n"
     ]
    }
   ],
   "source": [
    "G = ox.load_graphml(\"../data/processed/braga_private/Braga_wode.graphml\")\n",
    "print(len(G), len(G.edges))"
   ]
  },
  {
   "cell_type": "markdown",
   "metadata": {},
   "source": [
    "`Braga_simplified` is a topologically simplified version, done manually in QGIS"
   ]
  },
  {
   "cell_type": "code",
   "execution_count": 63,
   "metadata": {},
   "outputs": [
    {
     "name": "stdout",
     "output_type": "stream",
     "text": [
      "798 2469\n"
     ]
    }
   ],
   "source": [
    "G = ox.load_graphml(\"../data/processed/braga_private/Braga_simplified.graphml\")\n",
    "print(len(G), len(G.edges))"
   ]
  }
 ],
 "metadata": {
  "kernelspec": {
   "display_name": "js_superblockify",
   "language": "python",
   "name": "python3"
  },
  "language_info": {
   "codemirror_mode": {
    "name": "ipython",
    "version": 3
   },
   "file_extension": ".py",
   "mimetype": "text/x-python",
   "name": "python",
   "nbconvert_exporter": "python",
   "pygments_lexer": "ipython3",
   "version": "3.13.2"
  }
 },
 "nbformat": 4,
 "nbformat_minor": 2
}
